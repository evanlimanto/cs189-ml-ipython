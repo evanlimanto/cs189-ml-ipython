{
 "cells": [
  {
   "cell_type": "code",
   "execution_count": 194,
   "metadata": {
    "collapsed": true
   },
   "outputs": [],
   "source": [
    "import numpy as np\n",
    "import scipy\n",
    "from scipy import io\n",
    "from time import time\n",
    "import sys\n",
    "import matplotlib.pyplot as plt\n",
    "\n",
    "%matplotlib inline\n",
    "\n",
    "CROSSVAL_K = 12\n",
    "NUM_TRAINING_EXAMPLES = [100, 200, 500, 1000, 2000, 4741]"
   ]
  },
  {
   "cell_type": "code",
   "execution_count": 195,
   "metadata": {
    "collapsed": true
   },
   "outputs": [],
   "source": [
    "def print_now(s):\n",
    "    print(s)\n",
    "    sys.stdout.flush()"
   ]
  },
  {
   "cell_type": "code",
   "execution_count": 177,
   "metadata": {
    "collapsed": true
   },
   "outputs": [],
   "source": [
    "def shuffle_in_unison(a, b):\n",
    "    assert a.shape[0] == b.shape[0]\n",
    "    p = np.random.permutation(a.shape[0])\n",
    "    return a[p], b[p]"
   ]
  },
  {
   "cell_type": "code",
   "execution_count": 178,
   "metadata": {
    "collapsed": true
   },
   "outputs": [],
   "source": [
    "def timer(func):\n",
    "    def func_wrapper(*args, **kwargs):\n",
    "        start_time = time()\n",
    "        print(\"Start processing...\")\n",
    "        sys.stdout.flush()\n",
    "        retval = func(*args, **kwargs)\n",
    "        print(\"Done!\")\n",
    "        print(\"Time taken: {} seconds\".format(time() - start_time))\n",
    "        sys.stdout.flush()\n",
    "        return retval\n",
    "    return func_wrapper"
   ]
  },
  {
   "cell_type": "code",
   "execution_count": 285,
   "metadata": {
    "collapsed": false
   },
   "outputs": [],
   "source": [
    "data = io.loadmat(\"data/spam-dataset/spam_data.mat\")\n",
    "spam_data = data['training_data'].astype(np.float)\n",
    "spam_labels = np.ravel(data['training_labels']).astype(np.float)\n",
    "spam_data, spam_labels = shuffle_in_unison(spam_data, spam_labels)\n",
    "spam_data /= np.linalg.norm(spam_data, axis=1).reshape((5172, 1))\n",
    "\n",
    "training_data, validation_data = spam_data[:4741], spam_data[4741:]\n",
    "training_labels, validation_labels = spam_labels[:4741], spam_labels[4741:]\n",
    "test_data = data['test_data']\n",
    "test_data /= np.linalg.norm(test_data, axis=1).reshape((5857, 1))\n",
    "num_features = training_data.shape[1]"
   ]
  },
  {
   "cell_type": "code",
   "execution_count": 286,
   "metadata": {
    "collapsed": false
   },
   "outputs": [
    {
     "name": "stdout",
     "output_type": "stream",
     "text": [
      "Prior probability of class 0 : 0.7089221683189201\n",
      "Prior probability of class 1 : 0.2910778316810799\n"
     ]
    }
   ],
   "source": [
    "priors = np.array([np.sum(training_labels==i) \\\n",
    "                   / len(training_labels) for i in range(2)])\n",
    "for i, x in enumerate(priors):\n",
    "    print_now(\"Prior probability of class {} : {}\".format(i, x))"
   ]
  },
  {
   "cell_type": "code",
   "execution_count": 287,
   "metadata": {
    "collapsed": false
   },
   "outputs": [],
   "source": [
    "def LDA(training_data, training_labels, prediction_data, gamma):\n",
    "    global num_features\n",
    "    classes_mean_MLE = \\\n",
    "        np.array([np.mean(training_data[training_labels == i], axis=0) \\\n",
    "                  for i in range(2)])\n",
    "        \n",
    "    cov_matrices = np.array([np.cov(training_data[training_labels == i].T) \\\n",
    "                             for i in range(2)])\n",
    "    cov_mean = np.mean(cov_matrices, axis=0) + np.eye(num_features) * gamma\n",
    "    cov_mean_inv = np.linalg.inv(cov_mean)\n",
    "    \n",
    "    LDF = np.array([ \\\n",
    "        classes_mean_MLE[i].dot(cov_mean_inv).dot(prediction_data.T) - \\\n",
    "        0.5 * classes_mean_MLE[i].dot(cov_mean_inv).dot(classes_mean_MLE[i].T) + \\\n",
    "        np.log(priors[i]) for i in range(2)\n",
    "    ])\n",
    "    predictions = np.argmax(LDF, axis=0)\n",
    "    return predictions"
   ]
  },
  {
   "cell_type": "code",
   "execution_count": 288,
   "metadata": {
    "collapsed": true
   },
   "outputs": [],
   "source": [
    "@timer\n",
    "def cross_validate(training_data, training_labels, gamma_value, \\\n",
    "                   cross_validation_indices, CROSSVAL_K, DA_func):\n",
    "    print_now(\"Runing cross validation for γ value of: {}\".format(gamma_value))\n",
    "    cross_validation_data = \\\n",
    "        np.array(np.split(training_data[cross_validation_indices], CROSSVAL_K))\n",
    "    cross_validation_labels = \\\n",
    "        np.array(np.split(training_labels[cross_validation_indices], CROSSVAL_K))\n",
    "    cross_validation_accuracy = 0.0\n",
    "    for i in range(CROSSVAL_K):\n",
    "        mask = np.ones(CROSSVAL_K, dtype=bool)\n",
    "        mask[i] = 0\n",
    "        test_set = np.concatenate(cross_validation_data[mask])\n",
    "        test_labels = np.concatenate(cross_validation_labels[mask])\n",
    "        validation_set = cross_validation_data[i]\n",
    "        validation_labels = cross_validation_labels[i]\n",
    "        validation_prediction = \\\n",
    "            DA_func(test_set, test_labels, validation_set, gamma_value)\n",
    "        cross_validation_accuracy += \\\n",
    "            np.sum(validation_labels == validation_prediction) \\\n",
    "            / float(len(validation_labels))\n",
    "    cross_validation_accuracy /= CROSSVAL_K\n",
    "    return cross_validation_accuracy"
   ]
  },
  {
   "cell_type": "code",
   "execution_count": 289,
   "metadata": {
    "collapsed": true
   },
   "outputs": [],
   "source": [
    "@timer\n",
    "def crossval(training_data, training_labels, DA_func, gamma_values):\n",
    "    max_accuracy, best_gamma_value = 0.0, 0.0\n",
    "    cross_validation_indices = np.arange(0, training_data.shape[0])\n",
    "    np.random.shuffle(cross_validation_indices)\n",
    "    \n",
    "    for gamma_value in gamma_values:\n",
    "        cross_validation_accuracy = \\\n",
    "            cross_validate(training_data, training_labels, \\\n",
    "                gamma_value, cross_validation_indices, CROSSVAL_K, DA_func)\n",
    "        print_now(\"Cross validation accuracy for C value {}: {}\".format( \\\n",
    "              gamma_value, cross_validation_accuracy))\n",
    "        if cross_validation_accuracy > max_accuracy:\n",
    "            max_accuracy, best_gamma_value = cross_validation_accuracy, gamma_value\n",
    "    print_now(\"Best gamma value found to be: {}\".format(best_gamma_value))\n",
    "    return best_gamma_value"
   ]
  },
  {
   "cell_type": "code",
   "execution_count": 290,
   "metadata": {
    "collapsed": false
   },
   "outputs": [
    {
     "name": "stdout",
     "output_type": "stream",
     "text": [
      "Start processing...\n",
      "Start processing...\n",
      "Runing cross validation for γ value of: 1e-15\n",
      "Done!\n",
      "Time taken: 0.9742472171783447 seconds\n",
      "Cross validation accuracy for C value 1e-15: 0.9234338747099767\n",
      "Start processing...\n",
      "Runing cross validation for γ value of: 1e-14\n",
      "Done!\n",
      "Time taken: 1.007411003112793 seconds\n",
      "Cross validation accuracy for C value 1e-14: 0.9234338747099767\n",
      "Start processing...\n",
      "Runing cross validation for γ value of: 1e-13\n",
      "Done!\n",
      "Time taken: 0.848578929901123 seconds\n",
      "Cross validation accuracy for C value 1e-13: 0.9234338747099767\n",
      "Start processing...\n",
      "Runing cross validation for γ value of: 1e-12\n",
      "Done!\n",
      "Time taken: 1.0442979335784912 seconds\n",
      "Cross validation accuracy for C value 1e-12: 0.9234338747099767\n",
      "Start processing...\n",
      "Runing cross validation for γ value of: 1e-11\n",
      "Done!\n",
      "Time taken: 0.8911759853363037 seconds\n",
      "Cross validation accuracy for C value 1e-11: 0.9234338747099767\n",
      "Start processing...\n",
      "Runing cross validation for γ value of: 1e-10\n",
      "Done!\n",
      "Time taken: 0.9644031524658203 seconds\n",
      "Cross validation accuracy for C value 1e-10: 0.9240139211136892\n",
      "Start processing...\n",
      "Runing cross validation for γ value of: 1e-09\n",
      "Done!\n",
      "Time taken: 0.9862191677093506 seconds\n",
      "Cross validation accuracy for C value 1e-09: 0.9249806651198763\n",
      "Start processing...\n",
      "Runing cross validation for γ value of: 1e-08\n",
      "Done!\n",
      "Time taken: 1.0323541164398193 seconds\n",
      "Cross validation accuracy for C value 1e-08: 0.9253673627223512\n",
      "Start processing...\n",
      "Runing cross validation for γ value of: 1e-07\n",
      "Done!\n",
      "Time taken: 0.8863940238952637 seconds\n",
      "Cross validation accuracy for C value 1e-07: 0.9263341067285383\n",
      "Start processing...\n",
      "Runing cross validation for γ value of: 1e-06\n",
      "Done!\n",
      "Time taken: 0.9232151508331299 seconds\n",
      "Cross validation accuracy for C value 1e-06: 0.9273008507347256\n",
      "Start processing...\n",
      "Runing cross validation for γ value of: 1e-05\n",
      "Done!\n",
      "Time taken: 1.0173749923706055 seconds\n",
      "Cross validation accuracy for C value 1e-05: 0.9232405259087392\n",
      "Start processing...\n",
      "Runing cross validation for γ value of: 0.0001\n",
      "Done!\n",
      "Time taken: 0.9212501049041748 seconds\n",
      "Cross validation accuracy for C value 0.0001: 0.9097061098221193\n",
      "Start processing...\n",
      "Runing cross validation for γ value of: 0.001\n",
      "Done!\n",
      "Time taken: 0.9121339321136475 seconds\n",
      "Cross validation accuracy for C value 0.001: 0.8702629543696828\n",
      "Start processing...\n",
      "Runing cross validation for γ value of: 0.01\n",
      "Done!\n",
      "Time taken: 0.9034290313720703 seconds\n",
      "Cross validation accuracy for C value 0.01: 0.808584686774942\n",
      "Start processing...\n",
      "Runing cross validation for γ value of: 0.1\n",
      "Done!\n",
      "Time taken: 0.8558299541473389 seconds\n",
      "Cross validation accuracy for C value 0.1: 0.7542536736272236\n",
      "Best gamma value found to be: 1e-06\n",
      "Done!\n",
      "Time taken: 14.182116985321045 seconds\n"
     ]
    }
   ],
   "source": [
    "best_LDA_gamma_value = crossval(spam_data, spam_labels, LDA, np.array([10**i for i in range(-15, 0)]))"
   ]
  },
  {
   "cell_type": "code",
   "execution_count": 298,
   "metadata": {
    "collapsed": true
   },
   "outputs": [],
   "source": [
    "@timer\n",
    "def run_LDA():\n",
    "    global best_LDA_gamma_value\n",
    "    validation_errors = []\n",
    "    for num_data_points in NUM_TRAINING_EXAMPLES:\n",
    "        print_now(\"Training on {} data points...\".format(num_data_points))\n",
    "        data, labels = \\\n",
    "            training_data[:num_data_points], \\\n",
    "            training_labels[:num_data_points]\n",
    "        predictions = \\\n",
    "            LDA(data, labels, validation_data, best_LDA_gamma_value)\n",
    "        \n",
    "        error_rate = np.sum(predictions != validation_labels) \\\n",
    "                     / float(len(validation_labels))\n",
    "        print_now(\"Error rate with {} training data: {}\"\\\n",
    "                  .format(num_data_points, error_rate))\n",
    "        validation_errors.append(error_rate)\n",
    "\n",
    "    plt.title(\"LDA on validation data\")\n",
    "    plt.xlabel(\"Number of training examples\")\n",
    "    plt.ylabel(\"Error rate\")\n",
    "    plt.plot(NUM_TRAINING_EXAMPLES, validation_errors)"
   ]
  },
  {
   "cell_type": "code",
   "execution_count": 299,
   "metadata": {
    "collapsed": false
   },
   "outputs": [
    {
     "name": "stdout",
     "output_type": "stream",
     "text": [
      "Start processing...\n",
      "Training on 100 data points...\n",
      "Error rate with 100 training data: 0.26450116009280744\n",
      "Training on 200 data points...\n",
      "Error rate with 200 training data: 0.15777262180974477\n",
      "Training on 500 data points...\n",
      "Error rate with 500 training data: 0.10904872389791183\n",
      "Training on 1000 data points...\n",
      "Error rate with 1000 training data: 0.09976798143851508\n",
      "Training on 2000 data points...\n",
      "Error rate with 2000 training data: 0.08816705336426914\n",
      "Training on 4741 data points...\n",
      "Error rate with 4741 training data: 0.09048723897911833\n",
      "Done!\n",
      "Time taken: 0.24148297309875488 seconds\n"
     ]
    },
    {
     "data": {
      "image/png": "[encoded data removed]",
      "text/plain": [
       "<matplotlib.figure.Figure at 0x10c0e5748>"
      ]
     },
     "metadata": {},
     "output_type": "display_data"
    }
   ],
   "source": [
    "run_LDA()"
   ]
  },
  {
   "cell_type": "code",
   "execution_count": 300,
   "metadata": {
    "collapsed": false
   },
   "outputs": [],
   "source": [
    "def QDA(training_data, training_labels, prediction_data, gamma):\n",
    "    N = prediction_data.shape[0]\n",
    "    classes_mean_MLE = \\\n",
    "        np.array([np.mean(training_data[training_labels == i], axis=0) \\\n",
    "                  for i in range(2)])\n",
    "        \n",
    "    cov_matrices = \\\n",
    "        np.array([np.cov(training_data[training_labels == i].T) + \\\n",
    "                  np.eye(num_features) * gamma for i in range(2)])\n",
    "    cov_matrices_inv = np.array([np.linalg.inv(mat) for mat in cov_matrices])\n",
    "    \n",
    "    classes_mean_reshaped = \\\n",
    "        np.array([np.tile(mean.reshape((num_features, 1)), N).T \\\n",
    "                  for mean in classes_mean_MLE])\n",
    "\n",
    "    QDF = np.array([ \\\n",
    "            -0.5 * (prediction_data - classes_mean_reshaped[i]) \\\n",
    "                    .dot(cov_matrices_inv[i])\\\n",
    "                    .dot((prediction_data - classes_mean_reshaped[i]).T)\\\n",
    "                    .diagonal() \\\n",
    "            -0.5 * np.tile(np.log(np.linalg.norm(cov_matrices_inv[i])), N) \\\n",
    "            + np.tile(np.log(priors[i]), N) for i in range(2) \\\n",
    "    ])\n",
    "    \n",
    "    predictions = np.argmax(QDF, axis=0)\n",
    "    return predictions"
   ]
  },
  {
   "cell_type": "code",
   "execution_count": 301,
   "metadata": {
    "collapsed": false
   },
   "outputs": [
    {
     "name": "stdout",
     "output_type": "stream",
     "text": [
      "Start processing...\n",
      "Start processing...\n",
      "Runing cross validation for γ value of: 1e-15\n",
      "Done!\n",
      "Time taken: 1.4921329021453857 seconds\n",
      "Cross validation accuracy for C value 1e-15: 0.9601701469450888\n",
      "Start processing...\n",
      "Runing cross validation for γ value of: 1e-14\n",
      "Done!\n",
      "Time taken: 1.5796000957489014 seconds\n",
      "Cross validation accuracy for C value 1e-14: 0.9601701469450888\n",
      "Start processing...\n",
      "Runing cross validation for γ value of: 1e-13\n",
      "Done!\n",
      "Time taken: 1.461237907409668 seconds\n",
      "Cross validation accuracy for C value 1e-13: 0.9601701469450888\n",
      "Start processing...\n",
      "Runing cross validation for γ value of: 1e-12\n",
      "Done!\n",
      "Time taken: 1.608764886856079 seconds\n",
      "Cross validation accuracy for C value 1e-12: 0.9601701469450888\n",
      "Start processing...\n",
      "Runing cross validation for γ value of: 1e-11\n",
      "Done!\n",
      "Time taken: 1.4746878147125244 seconds\n",
      "Cross validation accuracy for C value 1e-11: 0.9603634957463263\n",
      "Start processing...\n",
      "Runing cross validation for γ value of: 1e-10\n",
      "Done!\n",
      "Time taken: 1.390516996383667 seconds\n",
      "Cross validation accuracy for C value 1e-10: 0.9599767981438515\n",
      "Start processing...\n",
      "Runing cross validation for γ value of: 1e-09\n",
      "Done!\n",
      "Time taken: 1.3608019351959229 seconds\n",
      "Cross validation accuracy for C value 1e-09: 0.9593967517401393\n",
      "Start processing...\n",
      "Runing cross validation for γ value of: 1e-08\n",
      "Done!\n",
      "Time taken: 1.4882299900054932 seconds\n",
      "Cross validation accuracy for C value 1e-08: 0.9593967517401393\n",
      "Start processing...\n",
      "Runing cross validation for γ value of: 1e-07\n",
      "Done!\n",
      "Time taken: 1.4185359477996826 seconds\n",
      "Cross validation accuracy for C value 1e-07: 0.9590100541376644\n",
      "Start processing...\n",
      "Runing cross validation for γ value of: 1e-06\n",
      "Done!\n",
      "Time taken: 1.4173400402069092 seconds\n",
      "Cross validation accuracy for C value 1e-06: 0.9590100541376644\n",
      "Start processing...\n",
      "Runing cross validation for γ value of: 1e-05\n",
      "Done!\n",
      "Time taken: 1.4191789627075195 seconds\n",
      "Cross validation accuracy for C value 1e-05: 0.9564965197215778\n",
      "Start processing...\n",
      "Runing cross validation for γ value of: 0.0001\n",
      "Done!\n",
      "Time taken: 1.3936619758605957 seconds\n",
      "Cross validation accuracy for C value 0.0001: 0.9452822892498066\n",
      "Start processing...\n",
      "Runing cross validation for γ value of: 0.001\n",
      "Done!\n",
      "Time taken: 1.4606311321258545 seconds\n",
      "Cross validation accuracy for C value 0.001: 0.9120262954369683\n",
      "Start processing...\n",
      "Runing cross validation for γ value of: 0.01\n",
      "Done!\n",
      "Time taken: 1.4564990997314453 seconds\n",
      "Cross validation accuracy for C value 0.01: 0.8455143078112917\n",
      "Start processing...\n",
      "Runing cross validation for γ value of: 0.1\n",
      "Done!\n",
      "Time taken: 1.4526588916778564 seconds\n",
      "Cross validation accuracy for C value 0.1: 0.7699149265274555\n",
      "Best gamma value found to be: 1e-11\n",
      "Done!\n",
      "Time taken: 21.888302087783813 seconds\n"
     ]
    }
   ],
   "source": [
    "# Compute best QDA gamma value by cross validation\n",
    "best_QDA_gamma_value = crossval(spam_data, spam_labels, QDA, np.array([10**i for i in range(-15, 0)]))"
   ]
  },
  {
   "cell_type": "code",
   "execution_count": 302,
   "metadata": {
    "collapsed": true
   },
   "outputs": [],
   "source": [
    "@timer\n",
    "def run_QDA():\n",
    "    global best_QDA_gamma_value\n",
    "    validation_errors = []\n",
    "    for num_data_points in NUM_TRAINING_EXAMPLES:\n",
    "        print_now(\"Training on {} data points...\".format(num_data_points))\n",
    "        data, labels = \\\n",
    "            training_data[:num_data_points], \\\n",
    "            training_labels[:num_data_points]\n",
    "        predictions = \\\n",
    "            QDA(data, labels, validation_data, best_QDA_gamma_value)\n",
    "        \n",
    "        error_rate = np.sum(predictions != validation_labels) \\\n",
    "                     / float(len(validation_labels))\n",
    "        print_now(\"Error rate with {} training data: {}\"\\\n",
    "                  .format(num_data_points, error_rate))\n",
    "        validation_errors.append(error_rate)\n",
    "\n",
    "    plt.title(\"QDA on validation data\")\n",
    "    plt.xlabel(\"Number of training examples\")\n",
    "    plt.ylabel(\"Error rate\")\n",
    "    plt.plot(NUM_TRAINING_EXAMPLES, validation_errors)"
   ]
  },
  {
   "cell_type": "code",
   "execution_count": 303,
   "metadata": {
    "collapsed": false
   },
   "outputs": [
    {
     "name": "stdout",
     "output_type": "stream",
     "text": [
      "Start processing...\n",
      "Training on 100 data points...\n",
      "Error rate with 100 training data: 0.19953596287703015\n",
      "Training on 200 data points...\n",
      "Error rate with 200 training data: 0.13225058004640372\n",
      "Training on 500 data points...\n",
      "Error rate with 500 training data: 0.09048723897911833\n",
      "Training on 1000 data points...\n",
      "Error rate with 1000 training data: 0.048723897911832945\n",
      "Training on 2000 data points...\n",
      "Error rate with 2000 training data: 0.048723897911832945\n",
      "Training on 4741 data points...\n",
      "Error rate with 4741 training data: 0.04408352668213457\n",
      "Done!\n",
      "Time taken: 0.4975590705871582 seconds\n"
     ]
    },
    {
     "data": {
      "image/png": "[encoded data removed]",
      "text/plain": [
       "<matplotlib.figure.Figure at 0x109ff4128>"
      ]
     },
     "metadata": {},
     "output_type": "display_data"
    }
   ],
   "source": [
    "run_QDA()"
   ]
  },
  {
   "cell_type": "code",
   "execution_count": 297,
   "metadata": {
    "collapsed": false
   },
   "outputs": [
    {
     "name": "stdout",
     "output_type": "stream",
     "text": [
      "Start processing...\n",
      "Done!\n",
      "Time taken: 1.7051100730895996 seconds\n"
     ]
    }
   ],
   "source": [
    "@timer\n",
    "def kaggle_dataset():\n",
    "    predictions = QDA(spam_data, spam_labels, test_data, best_QDA_gamma_value)\n",
    "    with open(\"kaggle_spam.txt\", \"w+\") as kaggle_file:\n",
    "        kaggle_file.write(\"Id,Category\\n\")\n",
    "        for i in range(len(predictions)):\n",
    "            kaggle_file.write(str(i+1)+\",\"+str(predictions[i])+\"\\n\")\n",
    "        kaggle_file.close()\n",
    "kaggle_dataset()"
   ]
  },
  {
   "cell_type": "markdown",
   "metadata": {
    "collapsed": true
   },
   "source": [
    "### Part E\n",
    "I used the same featurize.py that I used in HW1. My submission received a Kaggle score of 0.87620.\n",
    "I added a total of 400 features which are the top 200 words in both spam and ham emails, which don't exist in the other dataset. Also, I removed these words: \"other\", \"business\", \"path\", \"pleased\", \"record\" and the '[' character."
   ]
  },
  {
   "cell_type": "code",
   "execution_count": null,
   "metadata": {
    "collapsed": true
   },
   "outputs": [],
   "source": []
  }
 ],
 "metadata": {
  "kernelspec": {
   "display_name": "Python 3",
   "language": "python",
   "name": "python3"
  },
  "language_info": {
   "codemirror_mode": {
    "name": "ipython",
    "version": 3
   },
   "file_extension": ".py",
   "mimetype": "text/x-python",
   "name": "python",
   "nbconvert_exporter": "python",
   "pygments_lexer": "ipython3",
   "version": "3.4.3"
  }
 },
 "nbformat": 4,
 "nbformat_minor": 0
}
