{
 "cells": [
  {
   "cell_type": "markdown",
   "metadata": {},
   "source": [
    "## Problem 6: Linear Regression"
   ]
  },
  {
   "cell_type": "code",
   "execution_count": 90,
   "metadata": {
    "collapsed": false
   },
   "outputs": [],
   "source": [
    "import matplotlib\n",
    "import matplotlib.pyplot as plt\n",
    "import numpy as np\n",
    "from scipy import io\n",
    "\n",
    "%matplotlib inline\n",
    "\n",
    "HOUSING_DATA_PATH = \"data/housing_data.mat\""
   ]
  },
  {
   "cell_type": "code",
   "execution_count": 94,
   "metadata": {
    "collapsed": true
   },
   "outputs": [],
   "source": [
    "def solveLeastSquares(A, b):\n",
    "    return np.dot(np.dot(np.linalg.inv(np.dot(A.T, A)), A.T), b)"
   ]
  },
  {
   "cell_type": "code",
   "execution_count": 4,
   "metadata": {
    "collapsed": true
   },
   "outputs": [],
   "source": [
    "housing_data = io.loadmat(HOUSING_DATA_PATH)"
   ]
  },
  {
   "cell_type": "code",
   "execution_count": 45,
   "metadata": {
    "collapsed": false
   },
   "outputs": [],
   "source": [
    "xTrain = housing_data['Xtrain']\n",
    "yTrain = housing_data['Ytrain']\n",
    "xValidate = housing_data['Xvalidate']\n",
    "yValidate = housing_data['Yvalidate']\n",
    "\n",
    "# Appending 1 to end of each data point to add bias term\n",
    "xTrain = np.insert(xTrain, xTrain.shape[1], 1, 1)\n",
    "xValidate = np.insert(xValidate, xValidate.shape[1], 1, 1)\n",
    "assert xTrain.shape[1] == 9\n",
    "assert xValidate.shape[1] == 9"
   ]
  },
  {
   "cell_type": "code",
   "execution_count": 97,
   "metadata": {
    "collapsed": false
   },
   "outputs": [],
   "source": [
    "# Train model\n",
    "xModel = solveLeastSquares(xTrain, yTrain)\n",
    "yValidatePredicted = np.dot(xValidate, xModel)"
   ]
  },
  {
   "cell_type": "code",
   "execution_count": 98,
   "metadata": {
    "collapsed": false
   },
   "outputs": [],
   "source": [
    "residualValidate = np.linalg.norm(yValidatePredicted - yValidate) ** 2\n",
    "minY, maxY = np.min(yValidatePredicted), np.max(yValidatePredicted)"
   ]
  },
  {
   "cell_type": "markdown",
   "metadata": {},
   "source": [
    "### Part 2\n",
    "The residual sum of squares of the validation set is **5.79495379767e+12**.  \n",
    "The predicted values range from **-56562.8275449** to **710798.838692**.  \n",
    "The range doesn't make sense, since housing prices cannot be negative; the linear model doesn't account for this, however."
   ]
  },
  {
   "cell_type": "markdown",
   "metadata": {},
   "source": [
    "### Part 3"
   ]
  },
  {
   "cell_type": "code",
   "execution_count": 100,
   "metadata": {
    "collapsed": false
   },
   "outputs": [
    {
     "data": {
      "text/plain": [
       "<matplotlib.collections.PathCollection at 0x10d469080>"
      ]
     },
     "execution_count": 100,
     "metadata": {},
     "output_type": "execute_result"
    },
    {
     "data": {
      "image/png": "[encoded data removed]",
      "text/plain": [
       "<matplotlib.figure.Figure at 0x10d84e828>"
      ]
     },
     "metadata": {},
     "output_type": "display_data"
    }
   ],
   "source": [
    "plt.xlabel(\"Regression coefficient index\")\n",
    "plt.ylabel(\"Value\")\n",
    "plt.title(\"Linear regression coefficients w (excluding const offset)\")\n",
    "plt.scatter(np.arange(xModel.shape[0] - 1), xModel[:-1])"
   ]
  },
  {
   "cell_type": "markdown",
   "metadata": {},
   "source": [
    "### Part 4"
   ]
  },
  {
   "cell_type": "code",
   "execution_count": 105,
   "metadata": {
    "collapsed": false
   },
   "outputs": [
    {
     "data": {
      "image/png": "[encoded data removed]",
      "text/plain": [
       "<matplotlib.figure.Figure at 0x10e09c0f0>"
      ]
     },
     "metadata": {},
     "output_type": "display_data"
    }
   ],
   "source": [
    "yTrainingPredicted = np.dot(xTrain, xModel)\n",
    "residualsTraining = yTrainingPredicted - yTrain\n",
    "\n",
    "plt.figure(1, figsize=(10, 10))\n",
    "plt.title(\"Distribution of residuals of training data\")\n",
    "n, bins, patches = plt.hist(residualsTraining, bins=100, \\\n",
    "                            range=(-400000, 400000))"
   ]
  },
  {
   "cell_type": "markdown",
   "metadata": {},
   "source": [
    "It is clear that the histogram very much resembles a normal distribution, although a little skewed to the right (having a long left tail)."
   ]
  }
 ],
 "metadata": {
  "kernelspec": {
   "display_name": "Python 3",
   "language": "python",
   "name": "python3"
  },
  "language_info": {
   "codemirror_mode": {
    "name": "ipython",
    "version": 3
   },
   "file_extension": ".py",
   "mimetype": "text/x-python",
   "name": "python",
   "nbconvert_exporter": "python",
   "pygments_lexer": "ipython3",
   "version": "3.4.3"
  }
 },
 "nbformat": 4,
 "nbformat_minor": 0
}
