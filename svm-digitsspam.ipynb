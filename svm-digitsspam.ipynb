{
 "cells": [
  {
   "cell_type": "markdown",
   "metadata": {},
   "source": [
    "# CS 189 HW 1\n",
    "Name: **Evan Putra Limanto**  \n",
    "Student ID: **25557086**  \n",
    "Email: **evanlimanto@berkeley.edu**  \n",
    "Dependencies: scipy, numpy, scikit-learn, scikit-image  \n",
    "Instructions: simply run every cell below to get the desired results."
   ]
  },
  {
   "cell_type": "code",
   "execution_count": 27,
   "metadata": {
    "collapsed": true
   },
   "outputs": [],
   "source": [
    "from time import time\n",
    "import matplotlib.pyplot as plt\n",
    "import numpy as np\n",
    "import sys\n",
    "from scipy import io\n",
    "from sklearn import svm\n",
    "from sklearn.metrics import confusion_matrix\n",
    "from skimage.feature import hog\n",
    "\n",
    "%matplotlib inline\n",
    "\n",
    "DIGITS_CROSSVAL_K = 10\n",
    "EMAIL_CROSSVAL_K = 6\n",
    "digits_training_file = \"data/digit-dataset/train.mat\"\n",
    "email_training_file = \"data/spam-dataset/spam_data.mat\"\n",
    "kaggle_digits_dataset_file = \"data/digit-dataset/test.mat\""
   ]
  },
  {
   "cell_type": "code",
   "execution_count": 2,
   "metadata": {
    "collapsed": true
   },
   "outputs": [],
   "source": [
    "def timer(func):\n",
    "    def func_wrapper():\n",
    "        start_time = time()\n",
    "        print(\"Start processing...\")\n",
    "        sys.stdout.flush()\n",
    "        retval = func()\n",
    "        print(\"Done!\")\n",
    "        print(\"Time taken: {} seconds\".format(time() - start_time))\n",
    "        sys.stdout.flush()\n",
    "        return retval\n",
    "    return func_wrapper"
   ]
  },
  {
   "cell_type": "code",
   "execution_count": 3,
   "metadata": {
    "collapsed": true
   },
   "outputs": [],
   "source": [
    "def l2_norm(arr):\n",
    "    return np.sum([x * x for x in arr]) ** 0.5"
   ]
  },
  {
   "cell_type": "code",
   "execution_count": 4,
   "metadata": {
    "collapsed": true
   },
   "outputs": [],
   "source": [
    "def shuffle_in_unison(a, b):\n",
    "  assert a.shape[0] == b.shape[0]\n",
    "  p = np.random.permutation(a.shape[0])\n",
    "  return a[p], b[p]"
   ]
  },
  {
   "cell_type": "code",
   "execution_count": 5,
   "metadata": {
    "collapsed": false
   },
   "outputs": [],
   "source": [
    "def plot_confusion_matrix(index, cm, labels, num_training_examples, cmap=plt.cm.Blues):\n",
    "  labels = list(labels)\n",
    "  plt.figure(2, figsize=(20,20))\n",
    "  plt.subplot(3, 3, index)\n",
    "  plt.imshow(cm, interpolation='nearest', cmap=cmap)\n",
    "  plt.title(\"CM on {} training examples\".format(num_training_examples))\n",
    "  plt.colorbar()\n",
    "  tick_marks = np.arange(len(labels))\n",
    "  plt.xticks(tick_marks, labels, rotation=45)\n",
    "  plt.yticks(tick_marks, labels)\n",
    "  plt.ylabel('True label')\n",
    "  plt.xlabel('Predicted label')"
   ]
  },
  {
   "cell_type": "code",
   "execution_count": 6,
   "metadata": {
    "collapsed": true
   },
   "outputs": [],
   "source": [
    "def cross_validate(training_data, training_labels, c_value, cross_validation_indices, CROSSVAL_K):\n",
    "  print(\"Runing cross validation for C value of: {}\".format(c_value))\n",
    "  cross_validation_data = np.array(np.split(training_data[cross_validation_indices], CROSSVAL_K))\n",
    "  cross_validation_labels = np.array(np.split(training_labels[cross_validation_indices], CROSSVAL_K))\n",
    "  cross_validation_accuracy = 0.0\n",
    "  for i in range(CROSSVAL_K):\n",
    "    mask = np.ones(CROSSVAL_K, dtype=bool)\n",
    "    mask[i] = 0\n",
    "    test_set = np.concatenate(cross_validation_data[mask])\n",
    "    test_labels = np.concatenate(cross_validation_labels[mask])\n",
    "    validation_set = cross_validation_data[i]\n",
    "    validation_labels = cross_validation_labels[i]\n",
    "    linear_svm = svm.LinearSVC(C=c_value)\n",
    "    linear_svm.fit(test_set, test_labels)\n",
    "    validation_prediction = linear_svm.predict(validation_set)\n",
    "    cross_validation_accuracy += np.sum(validation_labels == validation_prediction) / float(len(validation_labels))\n",
    "  cross_validation_accuracy /= CROSSVAL_K\n",
    "  return cross_validation_accuracy"
   ]
  },
  {
   "cell_type": "markdown",
   "metadata": {},
   "source": [
    "# Problem 1 & 2"
   ]
  },
  {
   "cell_type": "code",
   "execution_count": 88,
   "metadata": {
    "collapsed": false
   },
   "outputs": [
    {
     "name": "stdout",
     "output_type": "stream",
     "text": [
      "Start processing...\n",
      "Transforming and flattening images...\n",
      "Done!\n",
      "Time taken: 199.74821186065674 seconds\n"
     ]
    }
   ],
   "source": [
    "@timer\n",
    "def init_digits():\n",
    "    global digits_images, digits_labels, digits_train_images, digits_train_labels, digits_validation_images, digits_validation_labels\n",
    "    # Read and normalize image data\n",
    "    digits_data = io.loadmat(digits_training_file)\n",
    "\n",
    "    print(\"Transforming and flattening images...\")\n",
    "    \n",
    "    # digits_images = np.array([np.array(image).flatten('C') for image in np.rollaxis(digits_data['train_images'], 2, 0)])\n",
    "    digits_images = np.array([hog(image, orientations=12, pixels_per_cell=(4, 4), normalise=True, cells_per_block=(1, 1)) \\\n",
    "                              for image in np.rollaxis(digits_data['train_images'], 2, 0)])   \n",
    "    digits_labels = np.ravel(digits_data['train_labels'])\n",
    "    digits_images, digits_labels = shuffle_in_unison(digits_images, digits_labels)\n",
    "\n",
    "    digits_train_images = digits_images[:50000]\n",
    "    digits_train_labels = digits_labels[:50000]\n",
    "    digits_validation_images = digits_images[50000:]\n",
    "    digits_validation_labels = digits_labels[50000:]\n",
    "init_digits()"
   ]
  },
  {
   "cell_type": "code",
   "execution_count": 89,
   "metadata": {
    "collapsed": false
   },
   "outputs": [
    {
     "name": "stdout",
     "output_type": "stream",
     "text": [
      "Start processing...\n",
      "Training on 100 training examples...\n",
      "Test error rate is 0.0\n",
      "Validation error rate is 0.25249999999999995\n",
      "\n",
      "Training on 200 training examples...\n",
      "Test error rate is 0.0\n",
      "Validation error rate is 0.18120000000000003\n",
      "\n",
      "Training on 500 training examples...\n",
      "Test error rate is 0.0\n",
      "Validation error rate is 0.12870000000000004\n",
      "\n",
      "Training on 1000 training examples...\n",
      "Test error rate is 0.0\n",
      "Validation error rate is 0.1079\n",
      "\n",
      "Training on 2000 training examples...\n",
      "Test error rate is 0.0004999999999999449\n",
      "Validation error rate is 0.08409999999999995\n",
      "\n",
      "Training on 5000 training examples...\n",
      "Test error rate is 0.0020000000000000018\n",
      "Validation error rate is 0.06730000000000003\n",
      "\n",
      "Training on 10000 training examples...\n",
      "Test error rate is 0.006900000000000017\n",
      "Validation error rate is 0.05489999999999995\n",
      "\n"
     ]
    },
    {
     "data": {
      "image/png": "[encoded data removed]",
      "text/plain": [
       "<matplotlib.figure.Figure at 0x10b75ce80>"
      ]
     },
     "metadata": {},
     "output_type": "display_data"
    },
    {
     "data": {
      "image/png": "[encoded data removed]",
      "text/plain": [
       "<matplotlib.figure.Figure at 0x10b75c940>"
      ]
     },
     "metadata": {},
     "output_type": "display_data"
    },
    {
     "name": "stdout",
     "output_type": "stream",
     "text": [
      "Done!\n",
      "Time taken: 5.194427967071533 seconds\n"
     ]
    }
   ],
   "source": [
    "@timer\n",
    "def train_and_validate_digits():\n",
    "    # Training and validation\n",
    "    possible_labels = set(digits_labels)\n",
    "    num_examples = [100, 200, 500, 1000, 2000, 5000, 10000]\n",
    "    test_error_rates, validation_error_rates = [], []\n",
    "\n",
    "    for (i, num_training_examples) in enumerate(num_examples):\n",
    "        print(\"Training on {} training examples...\".format(\n",
    "              num_training_examples))\n",
    "        training_set = digits_train_images[:num_training_examples]\n",
    "        training_labels = digits_train_labels[:num_training_examples]\n",
    "\n",
    "        linear_svm = svm.LinearSVC()\n",
    "        linear_svm.fit(training_set, training_labels)\n",
    "\n",
    "        test_predicted_labels = linear_svm.predict(training_set)\n",
    "        test_accuracy = np.sum(test_predicted_labels == training_labels) \\\n",
    "                        / float(num_training_examples)\n",
    "\n",
    "        validation_predicted_labels = \n",
    "            linear_svm.predict(digits_validation_images)\n",
    "        validation_accuracy = \\\n",
    "            np.sum(validation_predicted_labels == \n",
    "                   digits_validation_labels) \\\n",
    "            / float(10000)\n",
    "\n",
    "        print(\"Test error rate is {}\".format(1.0 - test_accuracy))\n",
    "        print(\"Validation error rate is {}\".format(\n",
    "              1.0 - validation_accuracy))\n",
    "        test_error_rates.append(1.0 - test_accuracy)\n",
    "        validation_error_rates.append(1.0 - validation_accuracy)\n",
    "\n",
    "        cm = confusion_matrix(digits_validation_labels,\n",
    "                              validation_predicted_labels)\n",
    "        plot_confusion_matrix(i + 1, cm, possible_labels,\n",
    "                              num_training_examples)\n",
    "        print(\"\")\n",
    "\n",
    "    plt.figure(1)\n",
    "    plt.xlabel(\"Training examples\")\n",
    "    plt.ylabel(\"Error Rate\")\n",
    "    plt.axis([min(num_examples) - 5, max(num_examples) + 5, -0.5, 1.0])\n",
    "    test_line = plt.plot(num_examples, test_error_rates,\n",
    "                         label='Test error')\n",
    "    validation_line = plt.plot(num_examples,\n",
    "        validation_error_rates, label='Validation error')\n",
    "    plt.legend()\n",
    "    plt.show()\n",
    "train_and_validate_digits()"
   ]
  },
  {
   "cell_type": "markdown",
   "metadata": {},
   "source": [
    "Using the Histogram of Oriented Gradients method, a validation error rate of 5.5% is obtained on 10000 training examples."
   ]
  },
  {
   "cell_type": "markdown",
   "metadata": {},
   "source": [
    "As we can see from the confusion matrices, the algorithm performs relatively well on the validation set even with only 100 training examples. With more training examples, the accuracy increases rapidly with diminishing returns."
   ]
  },
  {
   "cell_type": "code",
   "execution_count": 90,
   "metadata": {
    "collapsed": false
   },
   "outputs": [
    {
     "name": "stdout",
     "output_type": "stream",
     "text": [
      "Start processing...\n",
      "Runing cross validation for C value of: 0.001\n",
      "Cross validation accuracy for C value 0.001: 0.9054000000000002\n",
      "Runing cross validation for C value of: 0.01\n",
      "Cross validation accuracy for C value 0.01: 0.9397\n",
      "Runing cross validation for C value of: 0.1\n",
      "Cross validation accuracy for C value 0.1: 0.9498\n",
      "Runing cross validation for C value of: 1.0\n",
      "Cross validation accuracy for C value 1.0: 0.9466999999999999\n",
      "Done!\n",
      "Time taken: 30.05753779411316 seconds\n"
     ]
    }
   ],
   "source": [
    "@timer\n",
    "def cross_validation_digits():\n",
    "    max_accuracy, best_c_value = 0.0, 0.0\n",
    "    c_values = np.array([10**i for i in range(-3, 1)])\n",
    "    cross_validation_indices = np.arange(0, 10000)\n",
    "    np.random.shuffle(cross_validation_indices)\n",
    "\n",
    "    for c_value in c_values:\n",
    "        cross_validation_accuracy = \\\n",
    "            cross_validate(digits_train_images, digits_train_labels, \\\n",
    "                c_value, cross_validation_indices, DIGITS_CROSSVAL_K)\n",
    "        print(\"Cross validation accuracy for C value {}: {}\".format( \\\n",
    "              c_value, cross_validation_accuracy))\n",
    "        sys.stdout.flush()\n",
    "        if cross_validation_accuracy > max_accuracy:\n",
    "            max_accuracy, best_c_value = cross_validation_accuracy, c_value\n",
    "    return best_c_value\n",
    "digits_best_c_value = cross_validation_digits()"
   ]
  },
  {
   "cell_type": "markdown",
   "metadata": {},
   "source": [
    "# Problem 3\n",
    "Cross-validation allows the model to generalize better to values unseen before, since we simulate training different subsets of the training data to calculate the accuracy for different values of C.\n",
    "C value = **0.1**  \n",
    "Validation error rate = **0.0502**  \n",
    "Kaggle score = **0.96320**"
   ]
  },
  {
   "cell_type": "code",
   "execution_count": 91,
   "metadata": {
    "collapsed": false
   },
   "outputs": [
    {
     "name": "stdout",
     "output_type": "stream",
     "text": [
      "Start processing...\n",
      "With C value = 0.1\n",
      "Validation accuracy = 0.9595\n",
      "Done!\n",
      "Time taken: 36.54279112815857 seconds\n"
     ]
    }
   ],
   "source": [
    "@timer\n",
    "def kaggle_dataset_digits():\n",
    "    num_test_data = 50000\n",
    "    linear_svm = svm.LinearSVC(C=digits_best_c_value)\n",
    "    linear_svm.fit(digits_images[:num_test_data], \\\n",
    "                   digits_labels[:num_test_data])\n",
    "\n",
    "    validation_predicted_labels = \\\n",
    "        linear_svm.predict(digits_validation_images)\n",
    "    validation_accuracy = \\\n",
    "        np.sum(validation_predicted_labels == \\\n",
    "               digits_validation_labels) / float(10000)\n",
    "    \n",
    "    print(\"With C value = {}\".format(digits_best_c_value))\n",
    "    print(\"Validation accuracy = {}\".format(validation_accuracy))\n",
    "    sys.stdout.flush()\n",
    "    \n",
    "    kaggle_data = io.loadmat(kaggle_digits_dataset_file)\n",
    "    kaggle_images = np.array([hog(image, orientations=12, \\\n",
    "        pixels_per_cell=(4, 4), normalise=True, cells_per_block=(1, 1)) \\\n",
    "        for image in np.rollaxis(kaggle_data['test_images'], 2, 1)])\n",
    "    kaggle_labels = linear_svm.predict(kaggle_images)\n",
    "    \n",
    "    with open(\"kaggle_digits.txt\", \"w+\") as kaggle_file:\n",
    "        kaggle_file.write(\"Id,Category\\n\")\n",
    "        for i in range(len(kaggle_labels)):\n",
    "            kaggle_file.write(str(i+1)+\",\"+str(kaggle_labels[i])+\"\\n\")\n",
    "        kaggle_file.close()\n",
    "kaggle_dataset_digits()"
   ]
  },
  {
   "cell_type": "markdown",
   "metadata": {},
   "source": [
    "# Problem 4"
   ]
  },
  {
   "cell_type": "code",
   "execution_count": 22,
   "metadata": {
    "collapsed": false
   },
   "outputs": [
    {
     "name": "stdout",
     "output_type": "stream",
     "text": [
      "Start processing...\n",
      "Done!\n",
      "Time taken: 0.04586601257324219 seconds\n"
     ]
    }
   ],
   "source": [
    "@timer\n",
    "def init_email():\n",
    "    global email_train_features, email_train_labels, email_test_data\n",
    "    # Read and normalize email data\n",
    "    email_data = io.loadmat(email_training_file)\n",
    "    \n",
    "    email_train_features = email_data['training_data']\n",
    "    email_train_labels = \\\n",
    "        np.ravel(np.rollaxis(email_data['training_labels'], 1, 0))\n",
    "    email_test_data = email_data['test_data']\n",
    "init_email()"
   ]
  },
  {
   "cell_type": "code",
   "execution_count": 23,
   "metadata": {
    "collapsed": false
   },
   "outputs": [
    {
     "name": "stdout",
     "output_type": "stream",
     "text": [
      "Start processing...\n",
      "Runing cross validation for C value of: 1e-05\n",
      "Cross validation accuracy for C value 1e-05: 0.7906032482598607\n",
      "Runing cross validation for C value of: 0.0001\n",
      "Cross validation accuracy for C value 0.0001: 0.8530549110595514\n",
      "Runing cross validation for C value of: 0.001\n",
      "Cross validation accuracy for C value 0.001: 0.9172467130703791\n",
      "Runing cross validation for C value of: 0.01\n",
      "Cross validation accuracy for C value 0.01: 0.9452822892498066\n",
      "Runing cross validation for C value of: 0.1\n",
      "Cross validation accuracy for C value 0.1: 0.9499226604795051\n",
      "Runing cross validation for C value of: 1.0\n",
      "Cross validation accuracy for C value 1.0: 0.9501160092807425\n",
      "Runing cross validation for C value of: 10.0\n",
      "Cross validation accuracy for C value 10.0: 0.9499226604795051\n",
      "Runing cross validation for C value of: 100.0\n",
      "Cross validation accuracy for C value 100.0: 0.9211136890951277\n",
      "Runing cross validation for C value of: 1000.0\n",
      "Cross validation accuracy for C value 1000.0: 0.9112529002320184\n",
      "Runing cross validation for C value of: 10000.0\n",
      "Cross validation accuracy for C value 10000.0: 0.9033255993812839\n",
      "Runing cross validation for C value of: 100000.0\n",
      "Cross validation accuracy for C value 100000.0: 0.9145398298530548\n",
      "Runing cross validation for C value of: 1000000.0\n",
      "Cross validation accuracy for C value 1000000.0: 0.9238205723124516\n",
      "Runing cross validation for C value of: 10000000.0\n",
      "Cross validation accuracy for C value 10000000.0: 0.8868909512761022\n",
      "Runing cross validation for C value of: 100000000.0\n",
      "Cross validation accuracy for C value 100000000.0: 0.882830626450116\n",
      "Runing cross validation for C value of: 1000000000.0\n",
      "Cross validation accuracy for C value 1000000000.0: 0.8917246713070378\n",
      "Done!\n",
      "Time taken: 18.277280807495117 seconds\n"
     ]
    }
   ],
   "source": [
    "@timer\n",
    "def cross_validation_email():\n",
    "    max_accuracy, best_c_value = 0.0, 0.0\n",
    "    c_values = np.array([10**i for i in range(-5, 10)])\n",
    "    cross_validation_indices = np.arange(0, 5172)\n",
    "    np.random.shuffle(cross_validation_indices)\n",
    "\n",
    "    for c_value in c_values:\n",
    "        cross_validation_accuracy = \\\n",
    "            cross_validate(email_train_features, email_train_labels, \\\n",
    "                c_value, cross_validation_indices, EMAIL_CROSSVAL_K)\n",
    "        print(\"Cross validation accuracy for C value {}: {}\".format(\n",
    "                c_value, cross_validation_accuracy))\n",
    "        sys.stdout.flush()\n",
    "        if cross_validation_accuracy > max_accuracy:\n",
    "            max_accuracy, best_c_value = cross_validation_accuracy, c_value\n",
    "    return best_c_value\n",
    "best_email_c_value = cross_validation_email()"
   ]
  },
  {
   "cell_type": "markdown",
   "metadata": {},
   "source": [
    "C value = **1.0**  \n",
    "Validation error rate = **0.0499**  \n",
    "Kaggle score = **0.84421**\n",
    "\n",
    "I added a total of 400 features which are the top 200 words in both spam and ham emails, which don't exist in the other dataset.\n",
    "Also, I removed these words: \"other\", \"business\", \"path\", \"pleased\", \"record\" and the '[' character."
   ]
  },
  {
   "cell_type": "code",
   "execution_count": 24,
   "metadata": {
    "collapsed": false
   },
   "outputs": [
    {
     "name": "stdout",
     "output_type": "stream",
     "text": [
      "Start processing...\n",
      "Done!\n",
      "Time taken: 11.173685073852539 seconds\n"
     ]
    }
   ],
   "source": [
    "@timer\n",
    "def kaggle_dataset_emails():\n",
    "    linear_svm = svm.SVC(C=best_email_c_value, kernel='linear')\n",
    "    linear_svm.fit(email_train_features, email_train_labels)\n",
    "    \n",
    "    validation_predicted_labels = \\\n",
    "        linear_svm.predict(email_train_features[4741:])\n",
    "    validation_accuracy = np.sum(\n",
    "        validation_predicted_labels == email_train_labels[4741:]) \\\n",
    "        / float(431)\n",
    "    \n",
    "    print(\"With C value = {}\".format(best_email_c_value))\n",
    "    print(\"Validation accuracy = {}\".format(validation_accuracy))\n",
    "    sys.stdout.flush()\n",
    "    \n",
    "    kaggle_labels = linear_svm.predict(email_test_data)\n",
    "    \n",
    "    with open(\"kaggle_emails.txt\", \"w+\") as kaggle_file:\n",
    "        kaggle_file.write(\"Id,Category\\n\")\n",
    "        for i in range(len(kaggle_labels)):\n",
    "            kaggle_file.write(str(i + 1)+\",\"+str(kaggle_labels[i])+\"\\n\")\n",
    "        kaggle_file.close()\n",
    "kaggle_dataset_emails()"
   ]
  }
 ],
 "metadata": {
  "kernelspec": {
   "display_name": "Python 3",
   "language": "python",
   "name": "python3"
  },
  "language_info": {
   "codemirror_mode": {
    "name": "ipython",
    "version": 3
   },
   "file_extension": ".py",
   "mimetype": "text/x-python",
   "name": "python",
   "nbconvert_exporter": "python",
   "pygments_lexer": "ipython3",
   "version": "3.4.3"
  }
 },
 "nbformat": 4,
 "nbformat_minor": 0
}
